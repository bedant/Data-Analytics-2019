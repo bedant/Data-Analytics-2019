{
 "cells": [
  {
   "cell_type": "code",
   "execution_count": 0,
   "metadata": {
    "colab": {},
    "colab_type": "code",
    "id": "t9IvVI1RzMVQ"
   },
   "outputs": [],
   "source": [
    "import pandas as pd \n",
    "import numpy as np\n",
    "import matplotlib.pyplot as plt\n",
    "from sklearn.metrics import matthews_corrcoef\n",
    "from sklearn.model_selection import KFold\n",
    "from sklearn.model_selection import train_test_split\n",
    "%matplotlib inline"
   ]
  },
  {
   "cell_type": "code",
   "execution_count": 0,
   "metadata": {
    "colab": {
     "base_uri": "https://localhost:8080/",
     "height": 34
    },
    "colab_type": "code",
    "id": "oqD73sLFzenN",
    "outputId": "f4f863b4-7899-4f43-dfc4-3190c30d089c"
   },
   "outputs": [
    {
     "name": "stdout",
     "output_type": "stream",
     "text": [
      "Mounted at /content/drive\n"
     ]
    }
   ],
   "source": [
    "from google.colab import drive\n",
    "drive.mount('/content/drive')"
   ]
  },
  {
   "cell_type": "code",
   "execution_count": 0,
   "metadata": {
    "colab": {},
    "colab_type": "code",
    "id": "Zo7DA3jUzf5Z"
   },
   "outputs": [],
   "source": [
    "train = pd.read_csv('drive/My Drive/gc 2019 Patel Hall/train_upd.csv')\n",
    "test = pd.read_csv('drive/My Drive/gc 2019 Patel Hall/test_upd.csv')\n",
    "submission = pd.read_csv('drive/My Drive/gc 2019 Patel Hall/Sample_submission.csv')"
   ]
  },
  {
   "cell_type": "code",
   "execution_count": 0,
   "metadata": {
    "colab": {
     "base_uri": "https://localhost:8080/",
     "height": 34
    },
    "colab_type": "code",
    "id": "SfpwnyDjzlWK",
    "outputId": "0847bbf6-8dda-4918-c61c-30c74265303b"
   },
   "outputs": [
    {
     "data": {
      "text/plain": [
       "0"
      ]
     },
     "execution_count": 5,
     "metadata": {
      "tags": []
     },
     "output_type": "execute_result"
    }
   ],
   "source": [
    "train.isnull().sum().sum()"
   ]
  },
  {
   "cell_type": "code",
   "execution_count": 0,
   "metadata": {
    "colab": {
     "base_uri": "https://localhost:8080/",
     "height": 244
    },
    "colab_type": "code",
    "id": "GLufcGtyMs_H",
    "outputId": "063498bb-851f-4af2-f4b7-e55ba068542e"
   },
   "outputs": [
    {
     "data": {
      "text/html": [
       "<div>\n",
       "<style scoped>\n",
       "    .dataframe tbody tr th:only-of-type {\n",
       "        vertical-align: middle;\n",
       "    }\n",
       "\n",
       "    .dataframe tbody tr th {\n",
       "        vertical-align: top;\n",
       "    }\n",
       "\n",
       "    .dataframe thead th {\n",
       "        text-align: right;\n",
       "    }\n",
       "</style>\n",
       "<table border=\"1\" class=\"dataframe\">\n",
       "  <thead>\n",
       "    <tr style=\"text-align: right;\">\n",
       "      <th></th>\n",
       "      <th>cell_name</th>\n",
       "      <th>4G_rat</th>\n",
       "      <th>par_year</th>\n",
       "      <th>par_month</th>\n",
       "      <th>par_day</th>\n",
       "      <th>par_hour</th>\n",
       "      <th>par_min</th>\n",
       "      <th>subscriber_count</th>\n",
       "      <th>web_browsing_total_bytes</th>\n",
       "      <th>video_total_bytes</th>\n",
       "      <th>...</th>\n",
       "      <th>email_total_bytes</th>\n",
       "      <th>weather_total_bytes</th>\n",
       "      <th>media_total_bytes</th>\n",
       "      <th>mms_total_bytes</th>\n",
       "      <th>others_total_bytes</th>\n",
       "      <th>beam_direction</th>\n",
       "      <th>cell_range</th>\n",
       "      <th>tilt</th>\n",
       "      <th>ran_vendor</th>\n",
       "      <th>Congestion_Type</th>\n",
       "    </tr>\n",
       "  </thead>\n",
       "  <tbody>\n",
       "    <tr>\n",
       "      <th>0</th>\n",
       "      <td>1090595862</td>\n",
       "      <td>1</td>\n",
       "      <td>2018</td>\n",
       "      <td>12</td>\n",
       "      <td>15</td>\n",
       "      <td>0</td>\n",
       "      <td>50</td>\n",
       "      <td>152</td>\n",
       "      <td>315</td>\n",
       "      <td>59012</td>\n",
       "      <td>...</td>\n",
       "      <td>10</td>\n",
       "      <td>33</td>\n",
       "      <td>46</td>\n",
       "      <td>39</td>\n",
       "      <td>103</td>\n",
       "      <td>69</td>\n",
       "      <td>6</td>\n",
       "      <td>2</td>\n",
       "      <td>ERICSSON</td>\n",
       "      <td>4G_BACKHAUL_CONGESTION</td>\n",
       "    </tr>\n",
       "    <tr>\n",
       "      <th>1</th>\n",
       "      <td>4826375369</td>\n",
       "      <td>1</td>\n",
       "      <td>2018</td>\n",
       "      <td>12</td>\n",
       "      <td>7</td>\n",
       "      <td>20</td>\n",
       "      <td>5</td>\n",
       "      <td>54</td>\n",
       "      <td>1871</td>\n",
       "      <td>334</td>\n",
       "      <td>...</td>\n",
       "      <td>22</td>\n",
       "      <td>20</td>\n",
       "      <td>7</td>\n",
       "      <td>10</td>\n",
       "      <td>21</td>\n",
       "      <td>93</td>\n",
       "      <td>7</td>\n",
       "      <td>5</td>\n",
       "      <td>NOKIA</td>\n",
       "      <td>NC</td>\n",
       "    </tr>\n",
       "    <tr>\n",
       "      <th>2</th>\n",
       "      <td>3607540856</td>\n",
       "      <td>1</td>\n",
       "      <td>2018</td>\n",
       "      <td>12</td>\n",
       "      <td>5</td>\n",
       "      <td>16</td>\n",
       "      <td>35</td>\n",
       "      <td>277</td>\n",
       "      <td>887</td>\n",
       "      <td>945</td>\n",
       "      <td>...</td>\n",
       "      <td>14</td>\n",
       "      <td>91</td>\n",
       "      <td>49</td>\n",
       "      <td>147</td>\n",
       "      <td>159</td>\n",
       "      <td>77</td>\n",
       "      <td>6</td>\n",
       "      <td>3</td>\n",
       "      <td>ERICSSON</td>\n",
       "      <td>3G_BACKHAUL_CONGESTION</td>\n",
       "    </tr>\n",
       "    <tr>\n",
       "      <th>3</th>\n",
       "      <td>1245076813</td>\n",
       "      <td>0</td>\n",
       "      <td>2018</td>\n",
       "      <td>12</td>\n",
       "      <td>16</td>\n",
       "      <td>21</td>\n",
       "      <td>60</td>\n",
       "      <td>51</td>\n",
       "      <td>8577</td>\n",
       "      <td>494</td>\n",
       "      <td>...</td>\n",
       "      <td>10</td>\n",
       "      <td>63</td>\n",
       "      <td>42</td>\n",
       "      <td>75</td>\n",
       "      <td>35</td>\n",
       "      <td>95</td>\n",
       "      <td>7</td>\n",
       "      <td>2</td>\n",
       "      <td>HUAWEI</td>\n",
       "      <td>3G_BACKHAUL_CONGESTION</td>\n",
       "    </tr>\n",
       "    <tr>\n",
       "      <th>4</th>\n",
       "      <td>404129745</td>\n",
       "      <td>1</td>\n",
       "      <td>2018</td>\n",
       "      <td>12</td>\n",
       "      <td>4</td>\n",
       "      <td>6</td>\n",
       "      <td>60</td>\n",
       "      <td>117</td>\n",
       "      <td>2084</td>\n",
       "      <td>1056</td>\n",
       "      <td>...</td>\n",
       "      <td>67</td>\n",
       "      <td>59</td>\n",
       "      <td>91</td>\n",
       "      <td>197</td>\n",
       "      <td>316</td>\n",
       "      <td>112</td>\n",
       "      <td>3</td>\n",
       "      <td>5</td>\n",
       "      <td>HUAWEI</td>\n",
       "      <td>4G_RAN_CONGESTION</td>\n",
       "    </tr>\n",
       "  </tbody>\n",
       "</table>\n",
       "<p>5 rows × 39 columns</p>\n",
       "</div>"
      ],
      "text/plain": [
       "    cell_name  4G_rat  par_year  par_month  par_day  par_hour  par_min  \\\n",
       "0  1090595862       1      2018         12       15         0       50   \n",
       "1  4826375369       1      2018         12        7        20        5   \n",
       "2  3607540856       1      2018         12        5        16       35   \n",
       "3  1245076813       0      2018         12       16        21       60   \n",
       "4   404129745       1      2018         12        4         6       60   \n",
       "\n",
       "   subscriber_count  web_browsing_total_bytes  video_total_bytes  \\\n",
       "0               152                       315              59012   \n",
       "1                54                      1871                334   \n",
       "2               277                       887                945   \n",
       "3                51                      8577                494   \n",
       "4               117                      2084               1056   \n",
       "\n",
       "            ...            email_total_bytes  weather_total_bytes  \\\n",
       "0           ...                           10                   33   \n",
       "1           ...                           22                   20   \n",
       "2           ...                           14                   91   \n",
       "3           ...                           10                   63   \n",
       "4           ...                           67                   59   \n",
       "\n",
       "   media_total_bytes  mms_total_bytes  others_total_bytes  beam_direction  \\\n",
       "0                 46               39                 103              69   \n",
       "1                  7               10                  21              93   \n",
       "2                 49              147                 159              77   \n",
       "3                 42               75                  35              95   \n",
       "4                 91              197                 316             112   \n",
       "\n",
       "   cell_range  tilt  ran_vendor         Congestion_Type  \n",
       "0           6     2    ERICSSON  4G_BACKHAUL_CONGESTION  \n",
       "1           7     5       NOKIA                      NC  \n",
       "2           6     3    ERICSSON  3G_BACKHAUL_CONGESTION  \n",
       "3           7     2      HUAWEI  3G_BACKHAUL_CONGESTION  \n",
       "4           3     5      HUAWEI       4G_RAN_CONGESTION  \n",
       "\n",
       "[5 rows x 39 columns]"
      ]
     },
     "execution_count": 6,
     "metadata": {
      "tags": []
     },
     "output_type": "execute_result"
    }
   ],
   "source": [
    "train.head()"
   ]
  },
  {
   "cell_type": "code",
   "execution_count": 0,
   "metadata": {
    "colab": {},
    "colab_type": "code",
    "id": "ZrI9-w8gMtqO"
   },
   "outputs": [],
   "source": [
    "train.drop(['par_year','par_month'],1,inplace=True)\n",
    "test.drop(['par_year','par_month'],1,inplace=True)"
   ]
  },
  {
   "cell_type": "code",
   "execution_count": 0,
   "metadata": {
    "colab": {
     "base_uri": "https://localhost:8080/",
     "height": 34
    },
    "colab_type": "code",
    "id": "1YF_t7j4sW2s",
    "outputId": "2be18d3a-a722-40af-d84c-88452f1f1a85"
   },
   "outputs": [
    {
     "data": {
      "text/plain": [
       "((26305, 36), (78560, 37))"
      ]
     },
     "execution_count": 149,
     "metadata": {
      "tags": []
     },
     "output_type": "execute_result"
    }
   ],
   "source": [
    "test.shape,train.shape"
   ]
  },
  {
   "cell_type": "code",
   "execution_count": 0,
   "metadata": {
    "colab": {},
    "colab_type": "code",
    "id": "eChuZ_WfMs6y"
   },
   "outputs": [],
   "source": [
    "byte_cols = []\n",
    "for col in train.columns:\n",
    "  if 'byte' in col:\n",
    "    byte_cols.append(col)"
   ]
  },
  {
   "cell_type": "code",
   "execution_count": 0,
   "metadata": {
    "colab": {
     "base_uri": "https://localhost:8080/",
     "height": 34
    },
    "colab_type": "code",
    "id": "zbwAUm2MpkDf",
    "outputId": "a9f0aab0-653a-4556-f0dd-b976991c782b"
   },
   "outputs": [
    {
     "data": {
      "text/plain": [
       "\"for col in byte_cols:\\n  train[col+'_log'] = np.log(train[col] + 1)\\n  test[col+'_log'] = np.log(test[col] + 1)\""
      ]
     },
     "execution_count": 9,
     "metadata": {
      "tags": []
     },
     "output_type": "execute_result"
    }
   ],
   "source": [
    "\"\"\"for col in byte_cols:\n",
    "  train[col+'_log'] = np.log(train[col] + 1)\n",
    "  test[col+'_log'] = np.log(test[col] + 1)\"\"\""
   ]
  },
  {
   "cell_type": "code",
   "execution_count": 0,
   "metadata": {
    "colab": {
     "base_uri": "https://localhost:8080/",
     "height": 34
    },
    "colab_type": "code",
    "id": "anDi3ANEsePi",
    "outputId": "9d06d028-773c-4f52-e3ee-115530386a5c"
   },
   "outputs": [
    {
     "data": {
      "text/plain": [
       "((26305, 36), (78560, 37))"
      ]
     },
     "execution_count": 10,
     "metadata": {
      "tags": []
     },
     "output_type": "execute_result"
    }
   ],
   "source": [
    "test.shape,train.shape"
   ]
  },
  {
   "cell_type": "code",
   "execution_count": 0,
   "metadata": {
    "colab": {},
    "colab_type": "code",
    "id": "k1VJzelgbSdw"
   },
   "outputs": [],
   "source": [
    "byte_cols = [ 'web_browsing_total_bytes',\n",
    "       'video_total_bytes', 'social_ntwrking_bytes',\n",
    "       'cloud_computing_total_bytes', 'web_security_total_bytes',\n",
    "       'gaming_total_bytes', 'health_total_bytes', 'communication_total_bytes',\n",
    "       'file_sharing_total_bytes', 'remote_access_total_bytes',\n",
    "       'photo_sharing_total_bytes', 'software_dwnld_total_bytes',\n",
    "       'marketplace_total_bytes', 'storage_services_total_bytes',\n",
    "       'audio_total_bytes', 'location_services_total_bytes',\n",
    "       'presence_total_bytes', 'advertisement_total_bytes',\n",
    "       'system_total_bytes', 'voip_total_bytes', 'speedtest_total_bytes',\n",
    "       'email_total_bytes', 'weather_total_bytes', 'media_total_bytes',\n",
    "       'mms_total_bytes', 'others_total_bytes']\n",
    "for col in byte_cols:\n",
    "  col_ = col+'_sub'\n",
    "  train[col_] = train[col]*train['subscriber_count']"
   ]
  },
  {
   "cell_type": "code",
   "execution_count": 0,
   "metadata": {
    "colab": {},
    "colab_type": "code",
    "id": "TtlLJDtbzlSt"
   },
   "outputs": [],
   "source": [
    "def mget_dummies(df,columns):\n",
    "    return pd.get_dummies(df,columns=columns)\n",
    "  \n",
    "train = mget_dummies(train,['ran_vendor'])\n",
    "test  = mget_dummies(test,['ran_vendor'])"
   ]
  },
  {
   "cell_type": "code",
   "execution_count": 0,
   "metadata": {
    "colab": {
     "base_uri": "https://localhost:8080/",
     "height": 34
    },
    "colab_type": "code",
    "id": "JCt4OasBshNs",
    "outputId": "78d42d66-8964-41b9-82de-ddeba949a281"
   },
   "outputs": [
    {
     "data": {
      "text/plain": [
       "((26305, 38), (78560, 39))"
      ]
     },
     "execution_count": 9,
     "metadata": {
      "tags": []
     },
     "output_type": "execute_result"
    }
   ],
   "source": [
    "test.shape,train.shape"
   ]
  },
  {
   "cell_type": "code",
   "execution_count": 0,
   "metadata": {
    "colab": {},
    "colab_type": "code",
    "id": "X7BmfcFA5_W2"
   },
   "outputs": [],
   "source": [
    "#train.drop(['cell_name'],1,inplace=True)"
   ]
  },
  {
   "cell_type": "code",
   "execution_count": 0,
   "metadata": {
    "colab": {},
    "colab_type": "code",
    "id": "zB13Wpd5zlOH"
   },
   "outputs": [],
   "source": [
    "X = train.drop(['Congestion_Type','cell_name'],axis=1).values\n",
    "#y = train['Congestion_Type']"
   ]
  },
  {
   "cell_type": "code",
   "execution_count": 0,
   "metadata": {
    "colab": {
     "base_uri": "https://localhost:8080/",
     "height": 54
    },
    "colab_type": "code",
    "id": "S1qE95tYzlMD",
    "outputId": "5fac0ed3-3722-42b5-8209-edaf4857d6d4"
   },
   "outputs": [
    {
     "data": {
      "text/plain": [
       "\"y.value_counts()\\nmaps = {'NC':0,'4G_BACKHAUL_CONGESTION':1,'3G_BACKHAUL_CONGESTION':2,'4G_RAN_CONGESTION':3}\\ndef encode_label(x):\\n    return maps[x]\\ny = y.apply(encode_label)\""
      ]
     },
     "execution_count": 12,
     "metadata": {
      "tags": []
     },
     "output_type": "execute_result"
    }
   ],
   "source": [
    "\"\"\"y.value_counts()\n",
    "maps = {'NC':0,'4G_BACKHAUL_CONGESTION':1,'3G_BACKHAUL_CONGESTION':2,'4G_RAN_CONGESTION':3}\n",
    "def encode_label(x):\n",
    "    return maps[x]\n",
    "y = y.apply(encode_label)\"\"\""
   ]
  },
  {
   "cell_type": "code",
   "execution_count": 0,
   "metadata": {
    "colab": {},
    "colab_type": "code",
    "id": "z5S6fJhb6K0D"
   },
   "outputs": [],
   "source": [
    "from sklearn.model_selection import train_test_split \n"
   ]
  },
  {
   "cell_type": "code",
   "execution_count": 0,
   "metadata": {
    "colab": {},
    "colab_type": "code",
    "id": "Wu9X9aFuWH6U"
   },
   "outputs": [],
   "source": [
    "#X = train.drop('Congestion_Type',1).values\n",
    "Y = train['Congestion_Type']"
   ]
  },
  {
   "cell_type": "code",
   "execution_count": 0,
   "metadata": {
    "colab": {},
    "colab_type": "code",
    "id": "kifyWKHMlepy"
   },
   "outputs": [],
   "source": [
    "from sklearn.preprocessing import scale\n",
    "#X = scale(X)"
   ]
  },
  {
   "cell_type": "code",
   "execution_count": 0,
   "metadata": {
    "colab": {},
    "colab_type": "code",
    "id": "TE-g1yKSlfU-"
   },
   "outputs": [],
   "source": [
    "Y.value_counts()\n",
    "maps = {'NC':0,'4G_BACKHAUL_CONGESTION':1,'3G_BACKHAUL_CONGESTION':2,'4G_RAN_CONGESTION':3}\n",
    "def encode_label(x):\n",
    "    return maps[x]\n",
    "Y = Y.apply(encode_label)"
   ]
  },
  {
   "cell_type": "code",
   "execution_count": 0,
   "metadata": {
    "colab": {},
    "colab_type": "code",
    "id": "zG9UaNxiWH13"
   },
   "outputs": [],
   "source": [
    "X_train, X_test, y_train, y_test = train_test_split(X, Y, test_size = .25, random_state = 100) "
   ]
  },
  {
   "cell_type": "code",
   "execution_count": 0,
   "metadata": {
    "colab": {},
    "colab_type": "code",
    "id": "LGNE8xO8WHu0"
   },
   "outputs": [],
   "source": []
  },
  {
   "cell_type": "markdown",
   "metadata": {
    "colab_type": "text",
    "id": "JHul7aan14vV"
   },
   "source": [
    "## Feature enginnering"
   ]
  },
  {
   "cell_type": "code",
   "execution_count": 0,
   "metadata": {
    "colab": {
     "base_uri": "https://localhost:8080/",
     "height": 34
    },
    "colab_type": "code",
    "id": "JqM_WOg117-o",
    "outputId": "33ee3856-7974-45f1-ba18-f76c0e86d5aa"
   },
   "outputs": [
    {
     "data": {
      "text/plain": [
       "((78560, 65), (78560, 64))"
      ]
     },
     "execution_count": 18,
     "metadata": {
      "tags": []
     },
     "output_type": "execute_result"
    }
   ],
   "source": [
    "train.shape,X.shape"
   ]
  },
  {
   "cell_type": "code",
   "execution_count": 0,
   "metadata": {
    "colab": {},
    "colab_type": "code",
    "id": "ZBYqg0gQ177l"
   },
   "outputs": [],
   "source": [
    "from sklearn.decomposition import PCA\n",
    "import pandas as pd\n",
    "import matplotlib.pyplot as plt\n"
   ]
  },
  {
   "cell_type": "code",
   "execution_count": 0,
   "metadata": {
    "colab": {
     "base_uri": "https://localhost:8080/",
     "height": 455
    },
    "colab_type": "code",
    "id": "jSR8dsLtVXVH",
    "outputId": "c3a7a205-c48e-4ec8-c2f6-50b97669837f"
   },
   "outputs": [
    {
     "name": "stderr",
     "output_type": "stream",
     "text": [
      "/usr/local/lib/python3.6/dist-packages/sklearn/preprocessing/data.py:176: UserWarning: Numerical issues were encountered when centering the data and might not be solved. Dataset may contain too large values. You may need to prescale your features.\n",
      "  warnings.warn(\"Numerical issues were encountered \"\n"
     ]
    },
    {
     "name": "stdout",
     "output_type": "stream",
     "text": [
      "[ 13.4   15.8   18.2   20.57  22.93  25.28  27.63  29.97  32.3   34.63\n",
      "  36.95  39.27  41.58  43.88  46.18  48.47  50.75  53.03  55.3   57.57\n",
      "  59.84  62.09  64.34  66.58  68.82  71.05  73.27  75.46  77.05  78.63\n",
      "  80.2   81.76  83.32  84.87  86.42  87.96  89.38  89.97  90.51  91.05\n",
      "  91.58  92.1   92.58  93.03  93.43  93.82  94.21  94.6   94.99  95.38\n",
      "  95.77  96.15  96.53  96.91  97.28  97.65  98.02  98.38  98.73  99.07\n",
      "  99.41  99.72 100.02 100.02]\n"
     ]
    },
    {
     "data": {
      "text/plain": [
       "[<matplotlib.lines.Line2D at 0x7f5e3a6d84e0>]"
      ]
     },
     "execution_count": 20,
     "metadata": {
      "tags": []
     },
     "output_type": "execute_result"
    },
    {
     "data": {
      "image/png": "[encoded data removed]",
      "text/plain": [
       "<Figure size 432x288 with 1 Axes>"
      ]
     },
     "metadata": {
      "tags": []
     },
     "output_type": "display_data"
    }
   ],
   "source": [
    "X_scaled = scale(X)\n",
    "\n",
    "pca = PCA(n_components=64)\n",
    "\n",
    "pca.fit(X_scaled)\n",
    "\n",
    "#The amount of variance that each PC explains\n",
    "var= pca.explained_variance_ratio_\n",
    "\n",
    "#Cumulative Variance explains\n",
    "var1=np.cumsum(np.round(pca.explained_variance_ratio_, decimals=4)*100)\n",
    "\n",
    "print (var1)\n",
    "plt.plot(var1)"
   ]
  },
  {
   "cell_type": "code",
   "execution_count": 0,
   "metadata": {
    "colab": {},
    "colab_type": "code",
    "id": "Ys11Om7AVXO1"
   },
   "outputs": [],
   "source": [
    "#pca = PCA(n_components=55)\n",
    "#pca.fit(X_scaled)\n",
    "#X1=pca.fit_transform(X_scaled)"
   ]
  },
  {
   "cell_type": "code",
   "execution_count": 0,
   "metadata": {
    "colab": {},
    "colab_type": "code",
    "id": "4FZELNdmVXIy"
   },
   "outputs": [],
   "source": [
    "#X_train, X_test, y_train, y_test = train_test_split(X1, Y, test_size = .25, random_state = 100) "
   ]
  },
  {
   "cell_type": "code",
   "execution_count": 0,
   "metadata": {
    "colab": {
     "base_uri": "https://localhost:8080/",
     "height": 34
    },
    "colab_type": "code",
    "id": "wWDtv3HGWhwu",
    "outputId": "9accb4ec-871e-4b9e-b4cf-7c40af97d384"
   },
   "outputs": [
    {
     "data": {
      "text/plain": [
       "(78560, 55)"
      ]
     },
     "execution_count": 40,
     "metadata": {
      "tags": []
     },
     "output_type": "execute_result"
    }
   ],
   "source": [
    "#X1.shape"
   ]
  },
  {
   "cell_type": "code",
   "execution_count": 0,
   "metadata": {
    "colab": {},
    "colab_type": "code",
    "id": "swakOKHKWh-d"
   },
   "outputs": [],
   "source": [
    "\"\"\"from sklearn import (manifold, datasets, decomposition, ensemble,\n",
    "             discriminant_analysis, random_projection)\"\"\""
   ]
  },
  {
   "cell_type": "code",
   "execution_count": 0,
   "metadata": {
    "colab": {},
    "colab_type": "code",
    "id": "qTxCaKGEXhjo"
   },
   "outputs": [],
   "source": [
    "\"\"\"tsne = manifold.TSNE(n_components=2, init='pca', random_state=0)\"\"\""
   ]
  },
  {
   "cell_type": "code",
   "execution_count": 0,
   "metadata": {
    "colab": {},
    "colab_type": "code",
    "id": "_RsV9__rXhen"
   },
   "outputs": [],
   "source": [
    "#X_tsne = tsne.fit_transform(X)"
   ]
  },
  {
   "cell_type": "code",
   "execution_count": 0,
   "metadata": {
    "colab": {},
    "colab_type": "code",
    "id": "sD9xP4VEXhZZ"
   },
   "outputs": [],
   "source": [
    "#X_tsne.shape"
   ]
  },
  {
   "cell_type": "code",
   "execution_count": 0,
   "metadata": {
    "colab": {},
    "colab_type": "code",
    "id": "aXMfIQHvXhUZ"
   },
   "outputs": [],
   "source": [
    "!pip install catboost"
   ]
  },
  {
   "cell_type": "code",
   "execution_count": 0,
   "metadata": {
    "colab": {},
    "colab_type": "code",
    "id": "WB37K_7gWiLa"
   },
   "outputs": [],
   "source": []
  },
  {
   "cell_type": "code",
   "execution_count": 0,
   "metadata": {
    "colab": {},
    "colab_type": "code",
    "id": "hrRMcikiWiWm"
   },
   "outputs": [],
   "source": []
  },
  {
   "cell_type": "code",
   "execution_count": 0,
   "metadata": {
    "colab": {},
    "colab_type": "code",
    "id": "Yqgn3bc9zlJi"
   },
   "outputs": [],
   "source": [
    "def catboost_model(depth_ = 10,iterations_ =200,lr = .1):\n",
    "  \n",
    "  try:\n",
    "    from catboost import CatBoostClassifier\n",
    "  except:\n",
    "    !pip install catboost\n",
    "    from catboost import CatBoostClassifier\n",
    "\n",
    "  model = CatBoostClassifier(eval_metric='MCC',iterations=iterations_,random_seed=0,depth=depth_,learning_rate=lr,loss_function = 'MultiClass',classes_count=4)\n",
    "\n",
    "  model.fit(X_train, y_train,logging_level='Silent')\n",
    "\n",
    "\n",
    "  acc_ = model.score(X_test,y_test)\n",
    "  proba_ = model.predict_proba(X_test)\n",
    "  predi_ =  model.predict(X_test)\n",
    "\n",
    "  print(\"catboost's prediction accuracy is: \", acc_)\n",
    "  print(\"catboost's mcc score: \", matthews_corrcoef(y_test, predi_)  )\n",
    "\n",
    "  return model,proba_"
   ]
  },
  {
   "cell_type": "code",
   "execution_count": 0,
   "metadata": {
    "colab": {
     "base_uri": "https://localhost:8080/",
     "height": 87
    },
    "colab_type": "code",
    "id": "qe627M2mSDET",
    "outputId": "32ca98de-d119-4c31-8b2c-c00f9205eaac"
   },
   "outputs": [
    {
     "name": "stdout",
     "output_type": "stream",
     "text": [
      "catboost's prediction accuracy is:  0.8073828920570265\n",
      "catboost's mcc score:  0.7432962166730307\n"
     ]
    },
    {
     "data": {
      "text/plain": [
       "\"catboost's prediction accuracy is:  0.8060081466395111\\ncatboost's mcc score:  0.7414617255207043(depth_ = 2,iterations_ =2000,lr = .1)\\ncatboost's prediction accuracy is:  0.8073828920570265\\ncatboost's mcc score:  0.7432962166730307(depth_ = 1,iterations_ =10000,lr = .1)\\ncatboost's prediction accuracy is:  0.8074338085539715\\ncatboost's mcc score:  0.7433573288074403(depth_ = 3,iterations_ =5000,lr = .05)\""
      ]
     },
     "execution_count": 21,
     "metadata": {
      "tags": []
     },
     "output_type": "execute_result"
    }
   ],
   "source": [
    "catboost_model1, catboost_model1_prob = catboost_model(depth_ = 1,iterations_ =10000,lr = .1)\n",
    "\"\"\"catboost's prediction accuracy is:  0.8060081466395111\n",
    "catboost's mcc score:  0.7414617255207043(depth_ = 2,iterations_ =2000,lr = .1)\n",
    "catboost's prediction accuracy is:  0.8073828920570265\n",
    "catboost's mcc score:  0.7432962166730307(depth_ = 1,iterations_ =10000,lr = .1)\n",
    "catboost's prediction accuracy is:  0.8074338085539715\n",
    "catboost's mcc score:  0.7433573288074403(depth_ = 3,iterations_ =5000,lr = .05)\"\"\""
   ]
  },
  {
   "cell_type": "code",
   "execution_count": 0,
   "metadata": {
    "colab": {
     "base_uri": "https://localhost:8080/",
     "height": 50
    },
    "colab_type": "code",
    "id": "9g_DWGvNSD2v",
    "outputId": "5a109b91-8875-48b3-9954-bf04aa235a7c"
   },
   "outputs": [
    {
     "name": "stdout",
     "output_type": "stream",
     "text": [
      "catboost's prediction accuracy is:  0.8060081466395111\n",
      "catboost's mcc score:  0.7414617255207043\n"
     ]
    }
   ],
   "source": [
    "catboost_model2, catboost_model2_prob = catboost_model(depth_ = 2,iterations_ =2000,lr = .1)"
   ]
  },
  {
   "cell_type": "code",
   "execution_count": 0,
   "metadata": {
    "colab": {
     "base_uri": "https://localhost:8080/",
     "height": 50
    },
    "colab_type": "code",
    "id": "8d4QqDMHSC_O",
    "outputId": "4bee1ed3-1703-440d-b155-84b2be1e5637"
   },
   "outputs": [
    {
     "name": "stdout",
     "output_type": "stream",
     "text": [
      "catboost's prediction accuracy is:  0.8074338085539715\n",
      "catboost's mcc score:  0.7433573288074403\n"
     ]
    }
   ],
   "source": [
    "catboost_model3, catboost_model3_prob = catboost_model(depth_ = 3,iterations_ =5000,lr = .05)"
   ]
  },
  {
   "cell_type": "code",
   "execution_count": 0,
   "metadata": {
    "colab": {},
    "colab_type": "code",
    "id": "SacOHn_MUVNa"
   },
   "outputs": [],
   "source": [
    "\n",
    "import pickle\n",
    "\n",
    "filehandler = open(\"drive/My Drive/gc 2019 Patel Hall/catboost_models.pickle\",\"wb\")\n",
    "pickle.dump([catboost_model1,catboost_model2,catboost_model3],filehandler)\n",
    "filehandler.close()"
   ]
  },
  {
   "cell_type": "code",
   "execution_count": 0,
   "metadata": {
    "colab": {},
    "colab_type": "code",
    "id": "TonGAJAuAEXz"
   },
   "outputs": [],
   "source": [
    "def xgboost_model(lr=1,estima = 1000, depth_ = 5,gamma_=0):\n",
    "  \n",
    "  try:\n",
    "    import xgboost as xgb\n",
    "  except:\n",
    "    pass\n",
    "    \n",
    "  model = xgb.XGBClassifier(learning_rate =lr,n_estimators=estima,max_depth=depth_,min_child_weight=1,gamma=gamma_,subsample=0.8,\n",
    "     colsample_bytree=0.8,\n",
    "     objective= 'multi:softprob',\n",
    "     nthread=4,\n",
    "     scale_pos_weight=1,\n",
    "     seed=27,\n",
    "     verbose_eval=True,\n",
    "      num_class=4)\n",
    "\n",
    "  model.fit(X_train, y_train)\n",
    "\n",
    "  acc_ = model.score(X_test,y_test)\n",
    "  proba_ = model.predict_proba(X_test)\n",
    "  predi_ =  model.predict(X_test)\n",
    "\n",
    "  print(\"xgboost's prediction accuracy is: \", acc_)\n",
    "  print(\"xgboost's mcc score: \", matthews_corrcoef(y_test, predi_)  )\n",
    "\n",
    "  return model,proba_"
   ]
  },
  {
   "cell_type": "code",
   "execution_count": 0,
   "metadata": {
    "colab": {
     "base_uri": "https://localhost:8080/",
     "height": 50
    },
    "colab_type": "code",
    "id": "FnHG_teKzlHg",
    "outputId": "2fdbbfbb-7327-4202-b659-42a2a12f1a97"
   },
   "outputs": [
    {
     "name": "stdout",
     "output_type": "stream",
     "text": [
      "xgboost's prediction accuracy is:  0.7692973523421589\n",
      "xgboost's mcc score:  0.6924439769742344\n"
     ]
    }
   ],
   "source": [
    "xgb_model_1,xgb_1_proba = xgboost_model(lr=1,estima = 1000, depth_ = 8,gamma_=0)"
   ]
  },
  {
   "cell_type": "code",
   "execution_count": 0,
   "metadata": {
    "colab": {
     "base_uri": "https://localhost:8080/",
     "height": 50
    },
    "colab_type": "code",
    "id": "wj-Ao3dDTbhf",
    "outputId": "3f03321b-af3e-483a-ff58-448994b2edb9"
   },
   "outputs": [
    {
     "name": "stdout",
     "output_type": "stream",
     "text": [
      "xgboost's prediction accuracy is:  0.7683299389002036\n",
      "xgboost's mcc score:  0.6911273035022951\n"
     ]
    }
   ],
   "source": [
    "xgb_model_2,xgb_2_proba = xgboost_model(lr=1,estima = 2000, depth_ = 10,gamma_=0)"
   ]
  },
  {
   "cell_type": "code",
   "execution_count": 0,
   "metadata": {
    "colab": {
     "base_uri": "https://localhost:8080/",
     "height": 50
    },
    "colab_type": "code",
    "id": "rQdc-ndkTb3t",
    "outputId": "2f92a802-f3d7-4272-c531-412e425bf7d4"
   },
   "outputs": [
    {
     "name": "stdout",
     "output_type": "stream",
     "text": [
      "xgboost's prediction accuracy is:  0.765020366598778\n",
      "xgboost's mcc score:  0.686743127305333\n"
     ]
    }
   ],
   "source": [
    "xgb_model_3,xgb_3_proba = xgboost_model(lr=1,estima = 1000, depth_ = 12,gamma_=0)"
   ]
  },
  {
   "cell_type": "code",
   "execution_count": 0,
   "metadata": {
    "colab": {},
    "colab_type": "code",
    "id": "x5fYfygmVOzS"
   },
   "outputs": [],
   "source": [
    "filehandler = open(\"drive/My Drive/gc 2019 Patel Hall/xgboost_models.pickle\",\"wb\")\n",
    "pickle.dump([xgb_model_1,xgb_model_2,xgb_model_3],filehandler)\n",
    "filehandler.close()"
   ]
  },
  {
   "cell_type": "code",
   "execution_count": 0,
   "metadata": {
    "colab": {},
    "colab_type": "code",
    "id": "4FLZJ_P53sYa"
   },
   "outputs": [],
   "source": [
    "def gb_model(subsample_=0.8,n_estimators_=300,max_depth_=7):\n",
    "  \n",
    "  try:\n",
    "    from sklearn.ensemble import GradientBoostingClassifier\n",
    "  except:\n",
    "    pass\n",
    "\n",
    "  model = GradientBoostingClassifier(subsample=subsample_,n_estimators=n_estimators_,max_depth=max_depth_)\n",
    "  model.fit(X_train, y_train)\n",
    "\n",
    "  acc_ = model.score(X_test,y_test)\n",
    "  proba_ = model.predict_proba(X_test)\n",
    "  predi_ =  model.predict(X_test)\n",
    "\n",
    "  print(\"GradientBoostingClassifier's prediction accuracy is: \", acc_)\n",
    "  print(\"GradientBoostingClassifier's mcc score: \", matthews_corrcoef(y_test, predi_)  )\n",
    "      \n",
    "  return model,proba_"
   ]
  },
  {
   "cell_type": "code",
   "execution_count": 0,
   "metadata": {
    "colab": {
     "base_uri": "https://localhost:8080/",
     "height": 50
    },
    "colab_type": "code",
    "id": "VTV1-lsM3vbp",
    "outputId": "40ea1a50-349b-4c9a-f3a1-b779e4a999b4"
   },
   "outputs": [
    {
     "name": "stdout",
     "output_type": "stream",
     "text": [
      "GradientBoostingClassifier's prediction accuracy is:  0.795061099796334\n",
      "GradientBoostingClassifier's mcc score:  0.726877430627679\n"
     ]
    }
   ],
   "source": [
    "#gb_model_1,gb_1_proba =  gb_model(subsample_=0.8,n_estimators_=1500,max_depth_=1)"
   ]
  },
  {
   "cell_type": "code",
   "execution_count": 0,
   "metadata": {
    "colab": {
     "base_uri": "https://localhost:8080/",
     "height": 50
    },
    "colab_type": "code",
    "id": "aasdKX6V0R-h",
    "outputId": "17e8751a-bb65-4926-e2a4-9713294f0762"
   },
   "outputs": [
    {
     "name": "stdout",
     "output_type": "stream",
     "text": [
      "GradientBoostingClassifier's prediction accuracy is:  0.8012219959266802\n",
      "GradientBoostingClassifier's mcc score:  0.7350903673788269\n"
     ]
    }
   ],
   "source": [
    "gb_model_2,gb_2_proba =  gb_model(subsample_=0.8,n_estimators_=3000,max_depth_=1)"
   ]
  },
  {
   "cell_type": "code",
   "execution_count": 0,
   "metadata": {
    "colab": {},
    "colab_type": "code",
    "id": "cTBNA9yc0hIY"
   },
   "outputs": [],
   "source": [
    "#gb_model_3,gb_3_proba =  gb_model(subsample_=0.7,n_estimators_=3000,max_depth_=2)"
   ]
  },
  {
   "cell_type": "code",
   "execution_count": 0,
   "metadata": {
    "colab": {},
    "colab_type": "code",
    "id": "bM2r8URFAqsM"
   },
   "outputs": [],
   "source": [
    "filehandler = open(\"drive/My Drive/gc 2019 Patel Hall/gb_models.pickle\",\"wb\")\n",
    "pickle.dump([gb_model_2],filehandler)\n",
    "filehandler.close()"
   ]
  },
  {
   "cell_type": "code",
   "execution_count": 0,
   "metadata": {
    "colab": {},
    "colab_type": "code",
    "id": "5p3dj6JK0reu"
   },
   "outputs": [],
   "source": [
    "def lgbm_model(colsample_bytree=.1348,learning_rate = .35, \n",
    "                             max_depth = 2, n_estimators = 575, \n",
    "                             reg_alpha = .9643, reg_lambda=.5, subsample = .9):\n",
    "  \n",
    "  try:\n",
    "    import lightgbm as lgb\n",
    "  except:\n",
    "    pass\n",
    "\n",
    "  model = lgb.LGBMClassifier(colsample_bytree=colsample_bytree,learning_rate = learning_rate, \n",
    "                             max_depth = max_depth, n_estimators = n_estimators, \n",
    "                             reg_alpha = reg_alpha, reg_lambda=reg_lambda, subsample = subsample)\n",
    "  model.fit(X_train, y_train)\n",
    "\n",
    "  acc_ = model.score(X_test,y_test)\n",
    "  proba_ = model.predict_proba(X_test)\n",
    "  predi_ =  model.predict(X_test)\n",
    "\n",
    "  print(\"lgbm's prediction accuracy is: \", acc_)\n",
    "  print(\"lgbm's mcc score: \", matthews_corrcoef(y_test, predi_)  )\n",
    "      \n",
    "  return model,proba_"
   ]
  },
  {
   "cell_type": "code",
   "execution_count": 0,
   "metadata": {
    "colab": {},
    "colab_type": "code",
    "id": "yQ7axUTQoB7C"
   },
   "outputs": [],
   "source": [
    "#lgbm_model_1,lgbm_1_proba = lgbm_model()\n"
   ]
  },
  {
   "cell_type": "code",
   "execution_count": 0,
   "metadata": {
    "colab": {
     "base_uri": "https://localhost:8080/",
     "height": 87
    },
    "colab_type": "code",
    "id": "VSEap7WNoB3K",
    "outputId": "d9112d00-32c5-4a15-d69b-6ac5a3c51040"
   },
   "outputs": [
    {
     "name": "stdout",
     "output_type": "stream",
     "text": [
      "lgbm's prediction accuracy is:  0.8026985743380856\n",
      "lgbm's mcc score:  0.7370930459564444\n"
     ]
    },
    {
     "data": {
      "text/plain": [
       "\"lgbm's prediction accuracy is:  0.8026985743380856\\nlgbm's mcc score:  0.7370930459564444(colsample_bytree=.1348,learning_rate = .35, \\n                             max_depth = 2, n_estimators = 575, \\n                             reg_alpha = .9643, reg_lambda=.5, subsample = .9)\""
      ]
     },
     "execution_count": 30,
     "metadata": {
      "tags": []
     },
     "output_type": "execute_result"
    }
   ],
   "source": [
    "lgbm_model_2,lgbm_2_proba = lgbm_model(colsample_bytree=.1348,learning_rate = .35, \n",
    "                             max_depth = 2, n_estimators = 575, \n",
    "                             reg_alpha = .9643, reg_lambda=.5, subsample = .9)\n",
    "\"\"\"lgbm's prediction accuracy is:  0.8026985743380856\n",
    "lgbm's mcc score:  0.7370930459564444(colsample_bytree=.1348,learning_rate = .35, \n",
    "                             max_depth = 2, n_estimators = 575, \n",
    "                             reg_alpha = .9643, reg_lambda=.5, subsample = .9)\"\"\""
   ]
  },
  {
   "cell_type": "code",
   "execution_count": 0,
   "metadata": {
    "colab": {
     "base_uri": "https://localhost:8080/",
     "height": 87
    },
    "colab_type": "code",
    "id": "P52b5gLDoBze",
    "outputId": "64130532-e709-42b6-e09c-644dd19046c1"
   },
   "outputs": [
    {
     "name": "stdout",
     "output_type": "stream",
     "text": [
      "lgbm's prediction accuracy is:  0.8053462321792261\n",
      "lgbm's mcc score:  0.7406071480618112\n"
     ]
    },
    {
     "data": {
      "text/plain": [
       "\"lgbm's prediction accuracy is:  0.8053462321792261\\nlgbm's mcc score:  0.7406071480618112(colsample_bytree=.3,learning_rate = .3, \\n                             max_depth = 1, n_estimators = 2150, \\n                             reg_alpha = .7, reg_lambda=.5, subsample = .9)\""
      ]
     },
     "execution_count": 31,
     "metadata": {
      "tags": []
     },
     "output_type": "execute_result"
    }
   ],
   "source": [
    "lgbm_model_3,lgbm_3_proba = lgbm_model(colsample_bytree=.3,learning_rate = .3, \n",
    "                             max_depth = 1, n_estimators = 2150, \n",
    "                             reg_alpha = .7, reg_lambda=.5, subsample = .9)\n",
    "\"\"\"lgbm's prediction accuracy is:  0.8053462321792261\n",
    "lgbm's mcc score:  0.7406071480618112(colsample_bytree=.3,learning_rate = .3, \n",
    "                             max_depth = 1, n_estimators = 2150, \n",
    "                             reg_alpha = .7, reg_lambda=.5, subsample = .9)\"\"\""
   ]
  },
  {
   "cell_type": "code",
   "execution_count": 0,
   "metadata": {
    "colab": {},
    "colab_type": "code",
    "id": "1ZUMG0wjoBrI"
   },
   "outputs": [],
   "source": [
    "filehandler = open(\"drive/My Drive/gc 2019 Patel Hall/lgbm_models.pickle\",\"wb\")\n",
    "pickle.dump([lgbm_model_2,lgbm_model_3],filehandler)\n",
    "filehandler.close()"
   ]
  },
  {
   "cell_type": "code",
   "execution_count": 0,
   "metadata": {
    "colab": {},
    "colab_type": "code",
    "id": "QRi8RP4eoBmX"
   },
   "outputs": [],
   "source": []
  },
  {
   "cell_type": "code",
   "execution_count": 0,
   "metadata": {
    "colab": {
     "base_uri": "https://localhost:8080/",
     "height": 134
    },
    "colab_type": "code",
    "id": "oSW9r4ZNoBh-",
    "outputId": "bce70e70-4f75-4096-b4a0-e1df357a98f3"
   },
   "outputs": [
    {
     "data": {
      "text/plain": [
       "array([[1.69472434e-04, 6.56022267e-01, 2.08595201e-01, 1.35213059e-01],\n",
       "       [2.66900799e-07, 4.88461298e-01, 2.45739068e-03, 5.09081044e-01],\n",
       "       [1.14432845e-10, 3.70308629e-02, 3.80569202e-06, 9.62965331e-01],\n",
       "       ...,\n",
       "       [9.95543696e-01, 3.80455279e-06, 4.45248354e-03, 1.60817708e-08],\n",
       "       [3.49645668e-07, 6.17384892e-01, 3.52877361e-03, 3.79085985e-01],\n",
       "       [3.56419391e-04, 6.81886417e-01, 1.63792728e-01, 1.53964435e-01]])"
      ]
     },
     "execution_count": 59,
     "metadata": {
      "tags": []
     },
     "output_type": "execute_result"
    }
   ],
   "source": [
    "catboost_model1_prob "
   ]
  },
  {
   "cell_type": "code",
   "execution_count": 0,
   "metadata": {
    "colab": {
     "base_uri": "https://localhost:8080/",
     "height": 34
    },
    "colab_type": "code",
    "id": "ifiVi3FooBby",
    "outputId": "91b814ae-1fc4-467e-f5ff-79c910b66f73"
   },
   "outputs": [
    {
     "data": {
      "text/plain": [
       "((19640, 4), (19640, 8))"
      ]
     },
     "execution_count": 61,
     "metadata": {
      "tags": []
     },
     "output_type": "execute_result"
    }
   ],
   "source": [
    "catboost_model1_prob.shape, np.concatenate((catboost_model1_prob,catboost_model2_prob),axis=1).shape"
   ]
  },
  {
   "cell_type": "code",
   "execution_count": 0,
   "metadata": {
    "colab": {},
    "colab_type": "code",
    "id": "X2WdTJza1O3t"
   },
   "outputs": [],
   "source": [
    "final = np.concatenate((catboost_model1_prob,catboost_model2_prob,catboost_model3_prob,\n",
    "                gb_2_proba,lgbm_2_proba,lgbm_3_proba),axis=1)"
   ]
  },
  {
   "cell_type": "code",
   "execution_count": 0,
   "metadata": {
    "colab": {
     "base_uri": "https://localhost:8080/",
     "height": 34
    },
    "colab_type": "code",
    "id": "ClDvnp_p1QpD",
    "outputId": "66ce744b-02fe-4a09-b9cb-ec8db464e114"
   },
   "outputs": [
    {
     "data": {
      "text/plain": [
       "(19640, 24)"
      ]
     },
     "execution_count": 35,
     "metadata": {
      "tags": []
     },
     "output_type": "execute_result"
    }
   ],
   "source": [
    "final.shape"
   ]
  },
  {
   "cell_type": "code",
   "execution_count": 0,
   "metadata": {
    "colab": {
     "base_uri": "https://localhost:8080/",
     "height": 34
    },
    "colab_type": "code",
    "id": "bHVaaCjGvpc6",
    "outputId": "b5b79e95-ba4c-4365-9892-444d3e1bf479"
   },
   "outputs": [
    {
     "data": {
      "text/plain": [
       "(58920, 4)"
      ]
     },
     "execution_count": 36,
     "metadata": {
      "tags": []
     },
     "output_type": "execute_result"
    }
   ],
   "source": [
    "train_final = catboost_model1.predict_proba(X_train)\n",
    "train_final.shape"
   ]
  },
  {
   "cell_type": "code",
   "execution_count": 0,
   "metadata": {
    "colab": {
     "base_uri": "https://localhost:8080/",
     "height": 101
    },
    "colab_type": "code",
    "id": "oJvzNWp_1SUi",
    "outputId": "aa63997d-9292-4fe8-a0c0-f057f3fd8439"
   },
   "outputs": [
    {
     "name": "stdout",
     "output_type": "stream",
     "text": [
      "(58920, 8)\n",
      "(58920, 12)\n",
      "(58920, 16)\n",
      "(58920, 20)\n",
      "(58920, 24)\n"
     ]
    }
   ],
   "source": [
    "\n",
    "for model_ in [catboost_model2,catboost_model3,\n",
    "    gb_model_2,lgbm_model_2,lgbm_model_3]:\n",
    "  \n",
    "  train_final = np.concatenate((model_.predict_proba(X_train),train_final),axis= 1)\n",
    "  print(train_final.shape)"
   ]
  },
  {
   "cell_type": "code",
   "execution_count": 0,
   "metadata": {
    "colab": {},
    "colab_type": "code",
    "id": "78pHk4Rh1U_u"
   },
   "outputs": [],
   "source": [
    "from keras import models\n",
    "from keras.layers import Dense, Dropout\n",
    "from keras.utils import to_categorical\n",
    "from keras.layers import LeakyReLU"
   ]
  },
  {
   "cell_type": "code",
   "execution_count": 0,
   "metadata": {
    "colab": {},
    "colab_type": "code",
    "id": "NssXdO2gxj1u"
   },
   "outputs": [],
   "source": [
    "y_train_new = to_categorical(y_train, 4)\n",
    "y_test_new = to_categorical(y_test, 4)"
   ]
  },
  {
   "cell_type": "code",
   "execution_count": 0,
   "metadata": {
    "colab": {},
    "colab_type": "code",
    "id": "5IHN2cgd9Xnc"
   },
   "outputs": [],
   "source": [
    "from keras import backend as K\n",
    "\n",
    "\n",
    "def precision(y_true, y_pred):\t\n",
    "    \"\"\"Precision metric.\t\n",
    "    Only computes a batch-wise average of precision. Computes the precision, a\n",
    "    metric for multi-label classification of how many selected items are\n",
    "    relevant.\n",
    "    \"\"\"\t\n",
    "    true_positives = K.sum(K.round(K.clip(y_true * y_pred, 0, 1)))\t\n",
    "    predicted_positives = K.sum(K.round(K.clip(y_pred, 0, 1)))\t\n",
    "    precision = true_positives / (predicted_positives + K.epsilon())\t\n",
    "    return precision\n",
    "\n",
    "def recall(y_true, y_pred):\t\n",
    "    \"\"\"Recall metric.\t\n",
    "    Only computes a batch-wise average of recall. Computes the recall, a metric\n",
    "    for multi-label classification of how many relevant items are selected.\t\n",
    "    \"\"\"\t\n",
    "    true_positives = K.sum(K.round(K.clip(y_true * y_pred, 0, 1)))\t\n",
    "    possible_positives = K.sum(K.round(K.clip(y_true, 0, 1)))\t\n",
    "    recall = true_positives / (possible_positives + K.epsilon())\t\n",
    "    return recall\n",
    "\n",
    "def f1_score(y_true, y_pred):\n",
    "    \"\"\"Computes the F1 Score\n",
    "    Only computes a batch-wise average of recall. Computes the recall, a metric\n",
    "    for multi-label classification of how many relevant items are selected.\t\n",
    "    \"\"\"\n",
    "    p = precision(y_true, y_pred)\n",
    "    r = recall(y_true, y_pred)\n",
    "    return (2 * p * r) / (p + r + K.epsilon())\n",
    "\n",
    "  \n",
    "\"\"\"\n",
    "TP = K.sum(K.round(K.clip(y_true * y_pred, 0, 1)))\n",
    "TP_FP = K.sum(K.round(K.clip(y_pred, 0, 1)))\t\n",
    "TP_FN = K.sum(K.round(K.clip(y_true, 0, 1)))\t\n",
    "FP = TP_FP - TP\n",
    "FN = TP_FN - TP\n",
    "TN = np.logical_and(K.eval(y_true) == 0, K.eval(y_pred) == 0)\n",
    "TN = K.sum(K.variable(TN))\n",
    "\n",
    "return ((TP*TN)-(FP*FN))/ K.sqrt(((TP+FN)*(TP+FN)*(TN+FP)*(TN+FN))+K.epsilon())\"\"\"\n",
    "\"\"\"\n",
    "tp = K.sum(K.round(K.clip(y_true * y_pred, 0, 1)))\n",
    "p = precision(y_true, y_pred)\n",
    "r = recall(y_true, y_pred)\n",
    "N =  K.cast(K.shape(y_true)[0], dtype='float32')\n",
    "return ((p*r)- 1)/(K.sqrt(  ((r*N )- tp)-((p*N) -tp) )+ K.epsilon() )\n",
    "\"\"\"\n",
    "def MCC_(y_true, y_pred):\n",
    "    TP = K.sum(K.round(K.clip(y_true * y_pred, 0, 1)))\n",
    "    TP_FP = K.sum(K.round(K.clip(y_pred, 0, 1)))\t\n",
    "    TP_FN = K.sum(K.round(K.clip(y_true, 0, 1)))\t\n",
    "    FP = TP_FP - TP\n",
    "    FN = TP_FN - TP\n",
    "    TN = K.cast(K.shape(y_true)[0], dtype='float32') - FN\n",
    "\n",
    "\n",
    "    return ((TP*TN)-(FP*FN))/ K.sqrt(((TP+FN)*(TP+FN)*(TN+FP)*(TN+FN))+K.epsilon())\n",
    "  "
   ]
  },
  {
   "cell_type": "code",
   "execution_count": 0,
   "metadata": {
    "colab": {},
    "colab_type": "code",
    "id": "x7aibHeV1XCX"
   },
   "outputs": [],
   "source": [
    "model = models.Sequential()\n",
    "model.add(Dense(30, activation='tanh', input_shape=(24,)))\n",
    "model.add(Dropout(0.45))\n",
    "model.add(Dense(4, activation='softmax'))\n",
    "\n",
    "# Compile model\n",
    "model.compile(optimizer='adam',\n",
    "              loss='categorical_crossentropy',\n",
    "              metrics=[MCC_])\n",
    "\n",
    "# Train model\n",
    "model.fit(train_final, y_train_new,\n",
    "          batch_size=100000,\n",
    "          epochs=300,\n",
    "          verbose=1)\n",
    "\n",
    "score = model.evaluate(final, y_test_new, verbose=0)\n",
    "print('Test loss:', score[0])\n",
    "print('Test accuracy:', score[1])"
   ]
  },
  {
   "cell_type": "code",
   "execution_count": 0,
   "metadata": {
    "colab": {
     "base_uri": "https://localhost:8080/",
     "height": 151
    },
    "colab_type": "code",
    "id": "Q5bgfKEH1b53",
    "outputId": "41d350a7-fb5d-4cca-edcc-505e2065524c"
   },
   "outputs": [
    {
     "data": {
      "text/plain": [
       "(array([[0.00954379, 0.787024  , 0.1197862 , 0.083646  ],\n",
       "        [0.0039159 , 0.6812699 , 0.01834857, 0.29646578],\n",
       "        [0.00192063, 0.04563519, 0.00167311, 0.95077115],\n",
       "        ...,\n",
       "        [0.97393155, 0.00191331, 0.02269132, 0.00146377],\n",
       "        [0.00461415, 0.58022237, 0.01652284, 0.3986407 ],\n",
       "        [0.00390046, 0.836822  , 0.03217414, 0.12710345]], dtype=float32),\n",
       " array([1, 1, 3, ..., 0, 1, 1]))"
      ]
     },
     "execution_count": 256,
     "metadata": {
      "tags": []
     },
     "output_type": "execute_result"
    }
   ],
   "source": [
    "model.predict(final),np.argmax(model.predict(final),axis=1)"
   ]
  },
  {
   "cell_type": "code",
   "execution_count": 0,
   "metadata": {
    "colab": {
     "base_uri": "https://localhost:8080/",
     "height": 34
    },
    "colab_type": "code",
    "id": "BGjqgkW01eXd",
    "outputId": "856425d5-f371-4bb4-e147-9f3dc5672fc1"
   },
   "outputs": [
    {
     "data": {
      "text/plain": [
       "0.7424778361534832"
      ]
     },
     "execution_count": 257,
     "metadata": {
      "tags": []
     },
     "output_type": "execute_result"
    }
   ],
   "source": [
    "matthews_corrcoef(y_test, np.argmax(model.predict(final),axis=1))  "
   ]
  },
  {
   "cell_type": "code",
   "execution_count": 0,
   "metadata": {
    "colab": {},
    "colab_type": "code",
    "id": "rc5so46h4Gax"
   },
   "outputs": [],
   "source": [
    "0.744(30,.45,'adam')"
   ]
  },
  {
   "cell_type": "code",
   "execution_count": 0,
   "metadata": {
    "colab": {},
    "colab_type": "code",
    "id": "7gZ2mfK3trBy"
   },
   "outputs": [],
   "source": []
  }
 ],
 "metadata": {
  "accelerator": "TPU",
  "colab": {
   "collapsed_sections": [],
   "name": "models testing",
   "provenance": [],
   "version": "0.3.2"
  },
  "kernelspec": {
   "display_name": "Python 3",
   "language": "python",
   "name": "python3"
  },
  "language_info": {
   "codemirror_mode": {
    "name": "ipython",
    "version": 3
   },
   "file_extension": ".py",
   "mimetype": "text/x-python",
   "name": "python",
   "nbconvert_exporter": "python",
   "pygments_lexer": "ipython3",
   "version": "3.6.8"
  }
 },
 "nbformat": 4,
 "nbformat_minor": 1
}
